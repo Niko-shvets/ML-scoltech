{
 "cells": [
  {
   "cell_type": "markdown",
   "metadata": {},
   "source": [
    "# Home Assignment No. 1: Part 2 (Theory)"
   ]
  },
  {
   "cell_type": "markdown",
   "metadata": {},
   "source": [
    "In this part of the homework you are to solve several simple theoretical problems related to machine learning algorithms.\n",
    "* For every separate problem you can get only 0 points or maximal points for this problem. There are **NO INTERMEDIATE scores**.\n",
    "* Your solution must me **COMPLETE**, i.e. contain all required formulas/proofs/detailed explanations.\n",
    "* You must write your solution for any problem just right after the words **YOUR SOLUTION**. Attaching pictures of your handwriting is allowed, but **highly discouraged**.\n",
    "* The are two problems with \\* mark - they are not obligatory. You can get **EXTRA POINTS** for solving them.\n",
    "## $\\LaTeX$ in Jupyter\n",
    "Jupyter has constantly improving $\\LaTeX$ support. Below are the basic methods to\n",
    "write **neat, tidy, and well typeset** equations in your notebooks:\n",
    "* to write an **inline** equation use \n",
    "```markdown\n",
    "$ you latex equation here $\n",
    "```\n",
    "* to write an equation, that is **displayed on a separate line** use \n",
    "```markdown\n",
    "$$ you latex equation here $$\n",
    "```\n",
    "* to write a **block of equations** use \n",
    "```markdown\n",
    "\\begin{align}\n",
    "    left-hand-side\n",
    "        &= right-hand-side on line 1\n",
    "        \\\\\n",
    "        &= right-hand-side on line 2\n",
    "        \\\\\n",
    "        &= right-hand-side on the last line\n",
    "\\end{align}\n",
    "```\n",
    "The **ampersand** (`&`) aligns the equations horizontally and the **double backslash**\n",
    "(`\\\\`) creates a new line."
   ]
  },
  {
   "cell_type": "markdown",
   "metadata": {},
   "source": [
    "## Task 1. Linear Ridge Regression (1 point)\n",
    "Let us consider the problem of linear ridge regression for data $(x_{1},y_{1}),\\dots,(x_{n},y_{n})\\in\\mathbb{R}^{d\\times 1}$. Let the objects have positive **sample weights** $v_{i}>0$, i.e. the optimization problem is\n",
    "$$\\sum_{i=1}^{n}v_{i}\\cdot L(y_{i}, \\hat{y}_{i})+\\frac{\\lambda}{2}\\|w\\|_{2}^{2}=\\sum_{i=1}^{n}v_{i}\\cdot (\\langle\\boldsymbol{w},\\boldsymbol{x}_{i}\\rangle-y_{i})^{2}+\\frac{\\lambda}{2}\\|w\\|_{2}^{2}\\rightarrow \\min_{\\boldsymbol{w}}.$$\n",
    "This problem reduces to classical linear ridge regression when $v_{i}\\equiv 1$. The matrix form of the problem is\n",
    "$$(Xw-y)^{\\top}V(Xw-y)+\\frac{\\lambda}{2}w^{\\top}w\\rightarrow\\min_{w},$$\n",
    "where $V=V^{\\top}\\in\\mathbb{R}^{n\\times n}$ is the diagonal matrix with diagonal elements $v_{1},\\dots, v_{n}$. Note that the quadratic problem is still convex (w.r.t. $\\boldsymbol{w}$), thus, the solution is unique. Solve this problem for any (symmetric) positive-definite matrix $V$ (not just diagonal) and provide the answer in the matrix form.\n",
    "### Your solution:"
   ]
  },
  {
   "cell_type": "markdown",
   "metadata": {},
   "source": [
    "$$(Xw-y)^{\\top}V(Xw-y)+\\frac{\\lambda}{2}w^{\\top}w\\rightarrow\\min_{w},$$\n",
    "firstly we need to find gradient of it.\n",
    "$\\nabla f(w)=0$\n",
    "\n",
    "$$\n",
    "(Xw-y)^{\\top}V(Xw-y)+\\frac{\\lambda}{2}w^{\\top}w=w^TX^TVXw-w^TX^TVy-y^TVXw+y^TVy+\\frac{\\lambda}{2}w^Tw\n",
    "$$\n",
    "\n",
    "So, we know, that  $(y^TVXw)^T=w^TX^TVy$, then\n",
    "\n",
    "$$w^TX^TVXw-2w^TX^TVy+Y^TVy+\\frac{\\lambda}{2}w^Tw\\rightarrow\\min_{w}$$\n",
    "$$2X^TVXw-2X^Tvy+\\lambda w=0$$\n",
    "so, answer is\n",
    "$$ w=(2X^TVX+\\lambda I)^{-1}2X^TVy$$\n",
    "\n"
   ]
  },
  {
   "cell_type": "markdown",
   "metadata": {},
   "source": [
    "## Task 2. Logistic Regression (1 point)\n",
    "Let us consider the case when in the problem of binary classification the training set is lineary separable. Show that in this case the optimization problem for logistic regression **without L2-regularization** does not have optimum.\n",
    "### Your solution:\n"
   ]
  },
  {
   "cell_type": "markdown",
   "metadata": {},
   "source": [
    "we know, that if trainig set is linearly separable, the we can say that for logistic regression model:\n",
    "$$\\langle a,x_{-1}\\rangle \\leq -b < 0 < b \\leq \\langle a,x_{1} \\rangle$$\n",
    "\n",
    "where last component of $a=\\frac{-b_{-1}^*-b_{1}^*}{2}$, $b=\\frac{b_{-1}^*-b_{1}^*}{2}$\n",
    "\n",
    "$x_{1}$ from class 1 and $x_{-1}$ from class -1\n",
    "from this we can say, that $\\langle a,x_{i},y_{i}\\rangle \\geq b>0$\n",
    "\n",
    " $y_{1}=1,y_{-1}=-1$\n",
    "\n",
    "Now we need to minimize functional:\n",
    "\n",
    "$$\n",
    "L=\\sum_{i=1}^{m} log(1+exp(-(w^Tx_i)y_i))\\rightarrow\\min_{w}\n",
    "$$\n",
    "\n",
    "$$\n",
    "\\nabla_w L(w_0)=\\sum_{i=1}^{m} -x_iy_i\\frac{exp(-w^Tx_iy_i)}{1+exp(-(w^Tx_I)y_i)}=0\n",
    "$$\n",
    "\n",
    "$$\n",
    "\\langle\\nabla_w L(w_0),a\\rangle=\\sum_{i=1}^{m} \\frac{exp(-w^Tx_iy_i)}{1+exp(-(w^Tx_I)y_i)} \\langle a,-x_iy_i\\rangle<0\n",
    "$$\n",
    "\n",
    "so the optimum is not exist, because $\\frac{exp(-w^Tx_iy_i)}{1+exp(-(w^Tx_I)y_i)}>0$ and $\\langle a,-x_iy_i\\rangle<0$\n",
    "from this statement we can suppose, that optimum $w_0$ doesnt exist"
   ]
  },
  {
   "cell_type": "markdown",
   "metadata": {},
   "source": [
    "## Task 3. Bayesian Naive Classifier (1 point)\n",
    "Show that in case of $d$ binary-valued features $x_{j}\\in\\{0, 1\\}$ (for $j=1,2,\\dots,d$) Bayesian Naive Classifier's decision rule is linear.\n",
    "### Your solution:"
   ]
  },
  {
   "cell_type": "markdown",
   "metadata": {},
   "source": [
    "Bayesian Naive Classifier: $$P(X|C_k)=\\prod_{i=1}^{d}p^{x_i}k_i(1-pk_i)^{(1-x_i)}$$\n",
    "\n",
    "in log scale we get linear classifier\n",
    "\n",
    "$$L=\\log p(C_k)+\\sum_{i=1}^{d}(x_i\\log pk_i +(1-x_i)\\log(1-pk_i))$$\n",
    "then $$\n",
    "\\hat{y}=argmax(\\log p(C_k)+\\sum_{i=1}^{d}(x_i\\log pk_i +(1-x_i)\\log(1-pk_i)))=argmax(\\log p(C_k)+\\sum_{i=1}^{d}(x_i\\log{pk_i}+\\log(1-pk_i)-x_i\\log(1-pk_i)))\n",
    "$$\n",
    "it will be equal to\n",
    "$$\n",
    "argmax(\\log p(C_k)+\\sum_{i=1}^{d}(x_i\\log{\\frac{pk_i}{1-pk_i}}+\\log(1-pk_i)))\n",
    "$$\n",
    "\n",
    "from this point we can say, that \n",
    "$$\n",
    "\\hat{y}=argamax(w^Tx+b)\n",
    "$$\n",
    "\n",
    "where $$w=\\log{\\frac{pk_i}{1-pk_i}}\n",
    "$$\n",
    "$$\n",
    "b=\\log p(C_k)+\\sum_{i=1}^{d}\\log(1-pk_i)\n",
    "$$"
   ]
  },
  {
   "cell_type": "markdown",
   "metadata": {},
   "source": [
    "## Task 4. Nearest Neighbors (1 point)\n",
    "Consider the 1-nearest-neighbor classifier applied to multiclass classification problem. Let's denote the classifier fitted on data $X$ by $f_X(\\cdot)$.\n",
    "\n",
    "The formula for complete **leave-k-out cross-validation** on data sample $X^{n}$ is defined as\n",
    "$$L_{k}OCV=\\frac{1}{C_{n}^{k}}\\bigg[\\sum\\limits_{X\\subset \\mathcal{P}(X^{n})\\wedge |X|=k}\\frac{1}{k}\\bigg(\\sum_{i\\in X}[y_{i}\\neq f_{X^{n}\\setminus X}( x_{i})]\\bigg)\\bigg],$$\n",
    "where $\\mathcal{P}(X^{n})$ is the set of all subsets of $X^{n}$. For all $i=1,2\\dots,n$ denote the label of $m$-th closest neighbor of $x_{i}$ in $X^{n}\\setminus \\{x_{i}\\}$ by $y_{i}^{m}$. Show that \n",
    "$$L_{k}OCV=\\sum_{m=1}^{k}\\underbrace{\\frac{1}{n}\\sum_{i=1}^{n}[y_{i}\\neq y_{i}^{m}]}_{K_{m}(X^{n})}\\frac{C_{n-1-m}^{n-k-1}}{C_{n-1}^{k-1}},$$\n",
    "where $K_{m}(X^{n})$ is called the compactness profile of $X^{n}$, i.e. the fraction of objects whose $m$-th nearest neighbor has different label. For convenience assume that all the pairwise distances between objects are different.\n",
    "### Your solution:"
   ]
  },
  {
   "cell_type": "markdown",
   "metadata": {},
   "source": [
    "$$L_{k}OCV=\\frac{1}{C_{n}^{k}}\\bigg[\\sum\\limits_{X\\subset \\mathcal{P}(X^{n})\\wedge |X|=k}\\frac{1}{k}\\bigg(\\sum_{i\\in X}[y_{i}\\neq f_{X^{n}\\setminus X}( x_{i})]\\bigg)\\bigg]$$\n",
    "\n",
    "if for evry $y_i \\in X'$ we know $m_i$, then we have\n",
    "\n",
    "$$\n",
    "L_{k}OCV=\\frac{1}{C_{n}^{k}}\\bigg[\\sum\\limits_{X\\subset \\mathcal{P}(X^{n})\\wedge |X|=k}\\frac{1}{k}\\bigg(\\sum_{i\\in X}[y_{i}\\neq y_i^{m_i}]\\bigg)\\bigg]\n",
    "$$\n",
    "\n",
    "Now we can calculate how many subsets of $X^n$ have $m-1$ closet neighbors. So it is $m-k-1$ of elements, who is not in $X'$ from n-m-1(we know that $m-th$ closest neighbours not in $X'$) \n",
    "\n",
    "so,\n",
    "\n",
    "$$\n",
    "L_{k}OCV=\\sum_{i=1}^{n}\\frac{1}{C_n^kk}\\sum_{m=1}^{k}C_{n-m-1}^{n-k-1}[y_i\\neq y_i^m]\n",
    "$$\n",
    "\n",
    "it is will be the same that\n",
    "\n",
    "$$\n",
    "\\sum_{m=1}^{k}\\frac{C_{n-m-1}^{n-k-1}}{C_n^kK}\\sum_{i=1}^{n}[y_i\\neq y_i^m]=\\sum_{m=1}^{k}\\frac{1}{n}\\sum_{i=1}^{n}[y_i\\neq y_i^m]\\frac{C_{n-k-1}^{n-1-m}}{C_{n-1}^{k-1}}\n",
    "$$"
   ]
  },
  {
   "cell_type": "markdown",
   "metadata": {},
   "source": [
    "## Task 5. Bootstrap (1 point)\n",
    "Let the subsample $\\hat{X}^{n}$ of size $n$ be generated from sample $X^{n}=\\{\\boldsymbol{x}_{1},\\dots\\boldsymbol{x}_{n}\\}$ by bootstrap procedure. Find the probability of object $x_{i}$ to be present in $\\hat{X}^{n}$ and compute the limit of this probability for $n\\rightarrow\\infty$.\n",
    "### Your solution:"
   ]
  },
  {
   "cell_type": "markdown",
   "metadata": {},
   "source": [
    "so, we need to find probability that $x\\in X^n$:\n",
    "\n",
    "$$\n",
    "P(x\\in X^n)=1-P(x\\notin X^n)=1-(1-\\frac{1}{n})^n\n",
    "$$\n",
    "\n",
    "Now lets compute the limit of this probability for $n\\rightarrow\\infty$.\n",
    "\n",
    "$$\n",
    "\\lim_{n\\rightarrow\\infty}(1-(1-\\frac{1}{n})^n)=1-e^{-1}\n",
    "$$"
   ]
  },
  {
   "cell_type": "markdown",
   "metadata": {},
   "source": [
    "## Task 6. Decision Tree Leaves (1+1+1=3 points)\n",
    "Consider a leaf of a binary decision tree which consists of object-label pairs $(x_{1},y_{1}),\\dots,(x_{n},y_{n})$. The prediction $\\hat{y}$ of this leaf is defined to minimize the loss on the training sample, i.e. $\\frac{1}{n}\\sum_{i=1}^{n}L(y_{i}, \\hat{y})\\rightarrow\\min$. We consider three cases:\n",
    "1. Regression tree ($y_{i}\\in\\mathbb{R}$), absolute loss function $L(y,\\hat{y})=|y-\\hat{y}|$. The optimal prediction that minimizes $\\frac{1}{n}\\sum_{i=1}^{n}|y_{i}-\\hat{y}|$ is the median of labels: \n",
    "$$\\hat{y}=\\text{median}(y_{1},\\dots,y_{n}).$$\n",
    "In this case, for simplicity you may assume that $n$ is even (or odd, as you wish).\n",
    "2. Regression tree ($y_{i}\\in\\mathbb{R}$), squared loss function $L(y,\\hat{y})=(y-\\hat{y})^{2}$. The optimal prediction that minimizes $\\frac{1}{n}\\sum_{i=1}^{n}(y_{i}-\\hat{y})^{2}$ is the mean of labels:\n",
    "$$\\hat{y}=\\frac{1}{n}\\sum_{i=1}^{n}y_i.$$\n",
    "3. Classification tree for K classes ($y_{i}\\in\\{1,2,\\dots,K\\}$), zero-one loss $L(y,\\hat{y})=[y\\neq \\hat{y}]$. The optimal prediction that minimizes $\\frac{1}{n}\\sum_{i=1}^{n}[y_{i}\\neq\\hat{y}]$ is the most frequent label:\n",
    "$$\\hat{y}=\\underset{k=1,2,\\dots,K}{\\operatorname{argmax}}\\frac{1}{n}\\sum_{i=1}^{n}[y_{i}=k].$$\n",
    "In this case, for simplicity you may assume that there is only one most frequent label.\n",
    "\n",
    "Suppose that that instead of using optimal prediction for this leaf we output the label from $y_{1},\\dots,y_{n}$ at random. What will happen with the (expected) loss on the training sample (will it increase/decrease/not change)? Prove your answer (separately for every case).\n",
    "### Your solution:"
   ]
  },
  {
   "cell_type": "markdown",
   "metadata": {},
   "source": [
    "**6.1**\n",
    "if $\\hat{y}=median(y_1,....y_n)$ it is mean that half of $y$ located below median and half above.\n",
    "also absolute loss function is $L(y,\\hat{y}=|y-\\hat{y}|$ for random case of $y$ any deviation from optimal value will increase our loss function,and if $y<\\hat{y}$ or $y>\\hat{y}$, in both cases $p=\\frac{1}{2}$.\n",
    "Increasing Loss functions follow that we have module. \n",
    "\n",
    "\n",
    "\n",
    "\n",
    "**6.2**\n",
    "We know that $\\hat{y}=\\frac{1}{n}\\sum_{i=1}^{n}y_i$ is optimum, of $L(y,\\hat{y})=(y-\\hat{y})^2$\n",
    "Also, we know that our function is convex, that is mean that optimum exist only in one pout, it is mean, that if we choose random point, expected loss will increased.\n",
    "\n",
    "$E(L(y))-L(\\hat{y})=\\sum_{j=1}^{m}p(\\bar{L}y_j-\\bar{L}\\hat{y})$\n",
    "\n",
    "so $\\sum_{j=1}^{m}p(\\bar{L}(y_j)-\\bar{L}\\hat{y})>0$ if $y\\neq \\bar{y}$,or labels are the same in that case \n",
    "$\\sum_{j=1}^{m}p(\\bar{L}y_j-\\bar{L}\\hat{y})=0$\n",
    "\n",
    "\n",
    "\n",
    "\n",
    "\n",
    "\n",
    "\n",
    "**6.3**\n",
    "$y$-random output from $y_1,...,y_n$\n",
    "\n",
    "so, $$E(L(y_i,y))= \\frac{1}{n}\\sum_{i=1}^{n}[y_{i}\\neq\\hat{y}]$$\n",
    "\n",
    "as we know our optimum \n",
    " $\\frac{1}{n}\\sum_{i=1}^{n}[y_{i}\\neq\\hat{y}]$\n",
    " \n",
    " \n",
    " so we can say that:\n",
    " \n",
    " $$\n",
    " E(L(y_i,y))=\\frac{1}{n}\\sum_{i=1}^{n}[y_{i}\\neq\\hat{y}]\\geq \\frac{1}{n}\\sum_{i=1}^{n}[y_{i}\\neq\\hat{y}]\n",
    " $$\n",
    " \n",
    " it is mean that our loss function increased"
   ]
  },
  {
   "cell_type": "markdown",
   "metadata": {},
   "source": [
    "## Task 7*. Classification (1 point)\n",
    "Let objects $\\boldsymbol{x}_{1},\\dots,\\boldsymbol{x}_{n}$ have binary labels $y_{1}, y_{2},\\dots,y_{n}\\in\\{0,1\\}$. Let the classifier $f$ assign to objects probabilities of being from class $1$. Without loss of generality assume that $f(\\boldsymbol{x_{i}})<f(\\boldsymbol{x_{j}})$ for all $i<j$. Define the fraction of concordant pairs by \n",
    "$$\\text{FCP}(f, X^{n})=\\frac{2}{n(n-1)}\\sum_{i<j}[y_{i}<=y_{j}].$$ Show that this value is equal to Area Under ROC of classifier $f$.\n",
    "### Your solution:"
   ]
  },
  {
   "cell_type": "markdown",
   "metadata": {},
   "source": [
    "$f$ classifier, lets change $w_0$ in prediction\n",
    "thus \n",
    "$$\n",
    "y=sign(f(x)-w_0)\n",
    "$$\n",
    "\n",
    "Lets \n",
    "\n",
    "\n",
    "$$\n",
    "N=\\sum[y=0]  \\text{ and }   P=\\sum[y=1]\n",
    "$$\n",
    "\n",
    "so, we need $w_0>\\max(f(x_i))$\n",
    "\n",
    "after that prediction will be 0 labels, or we can say that $TP=0$ and $FP=0$\n",
    "\n",
    "If we decrease $w_0$ objects will be cross the $w_0$ so\n",
    "\n",
    "if $y_i=1$, $TPR$ will increase by $\\frac{1}{P}$\n",
    "In case, that $y_i=0$ $FPR$ will increase by $\\frac{1}{N}$, $AUC$ increased by $\\frac{TPR}{N}$\n",
    "\n",
    "Thus: $AUC_\\frac{1}{NP}\\sum_{j>i}[y_j<y_i]$"
   ]
  },
  {
   "cell_type": "markdown",
   "metadata": {},
   "source": [
    "## Task 8. Kernel Regression (1 point)\n",
    "Recall that the prediction of Kernel Ridge Regression fitted on data $X^{n}$ with the kernel $K(\\cdot, \\cdot)$ has the form $\\mathcal{K}(x)=\\sum_{i=1}^{n}\\alpha_{i}K(x, x_{i})$, where $\\alpha=(K+\\lambda I)^{-1}Y$ ($K_{ij}=K(x_{i},x_{j})$). The time complexity of computation of a prediction $\\mathcal{K}(x)$ for any point $x$ is $O(n)$, i.e. grows linearly with the size of the training set.\n",
    "\n",
    "Consider the bilinear kernel $K(x, x')=\\langle x, x'\\rangle$. For this kernel, the Kernel Regression is known to turn into simple linear ridge regression. However, for linear regression the computation time of prediction $\\mathcal{R}(x)=\\sum_{j=1}^{d}\\beta_{j}x^{j}$ is $O(d)$, where $d$ is the dimension of the feature space and does not grow with the training, which is a little bit controversary to the previous paragraph.\n",
    "\n",
    "In this task in order to show that the kernel regression with the bilinear kernel is indeed the linear ridge regression, you have to prove that the predictions exactly match by **direct comparison**.\n",
    "### Your solution:"
   ]
  },
  {
   "cell_type": "markdown",
   "metadata": {},
   "source": [
    "The bilinear kernel $K(x, x')=\\langle x, x'\\rangle$\n",
    "Kernel ridge regression:\n",
    "$$\n",
    "\\hat{f}(x)=\\sum_{i=1}^{m}\\alpha_i(\\Phi(X)*\\Phi(X_i)^T=\\sum_{i=1}^{m}\\alpha_iK(x_i, x)\n",
    "$$\n",
    "\n",
    "$$\n",
    "\\alpha=(\\Phi(X)*\\Phi(X)^T+\\lambda I)^{-1}Y=(K+\\lambda I)^{-1}Y\n",
    "$$\n",
    "Then we can say, that\n",
    "$$\n",
    "\\hat{f}(x)=\\sum_{i=1}^{m}\\alpha_iK(x_i, x)=XX^T(XX^T+\\lambda I)^{-1}Y\n",
    "$$\n",
    "\n",
    "For ridge regression\n",
    "\n",
    "$$\n",
    "F(w)=||XW-Y||^2+\\lambda||w||^2\n",
    "$$\n",
    "where $W$\n",
    "$$\n",
    "W=(X^TX+\\lambda)^{-1}X^TY=X^T(XX^T+\\lambda I)^{-1}Y\n",
    "$$\n",
    "it can be rewerite like $W=X^T*\\alpha$\n",
    "\n",
    "so,\n",
    "\n",
    "$$\n",
    "\\hat{f}(x)=XW=\\sum_{i=1}^{m}\\alpha_i\\langle x, x_i\\rangle=XX^T(XX^T+\\lambda I)^{-1}Y\n",
    "$$\n",
    "So if we direct compare it, we can see, that they are the same"
   ]
  },
  {
   "cell_type": "markdown",
   "metadata": {},
   "source": [
    "## Task 9. Kernel Methods (1 point)\n",
    "Prove that the function $K(x,x')=\\exp(-\\|x-x'\\|^{2})$ is positive definite kernel.\n",
    "### Your solution:"
   ]
  },
  {
   "cell_type": "markdown",
   "metadata": {},
   "source": [
    "### Method I \n",
    "by induction\n",
    "\n",
    "\n",
    "$K(x,x')=\\exp(-\\|x-x'\\|^{2})$\n",
    "We call Kernel positive defined if:\n",
    "\n",
    "$$\n",
    "\\sum_{i=1}^{n}\\sum_{j=1}^{n}c_ic_jK(x_i,x_j)\\geq0\n",
    "$$\n",
    "\n",
    "for any $n\\in N$, $x=x_1,x_2,x_3...x_n \\in \\chi$, $c=c_1,c_2,c_3...c_n \\in R$\n",
    "So lets show it for differnet $n$\n",
    "\n",
    "for $n=1$\n",
    "\n",
    "$$\n",
    "c_1c_1\\exp(||x_1-x_1||^2)=c_1^2\n",
    "$$\n",
    "\n",
    "for $n=2$\n",
    "$$\n",
    "c_1^2+c_2^2+2c_1c_2\\exp(||x_1-x_2||^2)=(c-1+c-2)^2-2c_1c_2(1-\\exp(-||x_1-x_2||^2)\\in[0,(c_1+c_2)^2), \\exp(-||x_1-x_2||^2) \\in (0,1]\n",
    "$$\n",
    "\n",
    "also we $2c_1c_2<(c1+c_2)$\n",
    "\n",
    "\n",
    "and now, using  we can describe common case:\n",
    "$$\n",
    "\\sum_{i=1}^{n}\\sum_{j=1}^{n}c_ic_jK(x_i,x_j)\\in[0,(\\sum_{i=0}^{n}c_i)^2)\n",
    "$$\n",
    "\n",
    "That's mean that kernel is positive defined\n",
    "\n",
    "### Method II\n",
    "we can show $K(x,x')$ like:\n",
    "\n",
    "\n",
    "$$\n",
    "K(x,x')=\\exp(-\\|x-x'\\|^{2})=\\exp(-||x||^2)\\exp(2x^T|x'|)\\exp(-||x'||^2)\n",
    "$$\n",
    "\n",
    "from this point of view we can say that kernel positive defined\n",
    "\n"
   ]
  },
  {
   "cell_type": "markdown",
   "metadata": {},
   "source": [
    "## Task 10*. Support Vector Machine (1 point)\n",
    "Show that for two-class SVM classifier the following upper bound on accuracy leave-one-out-cross-validation estimate holds true:\n",
    "$$L_{1}OCV=\\frac{1}{n}\\sum_{i=1}^{n}[y_{i}=f_{i}(x_{i})]\\leq \\frac{|SV|}{n},$$\n",
    "where for all $i=1,\\dots,n$ $f_{i}(x_{i})$ is SVM fitted on the entire data without observation $(x_{i},y_{i})$ and $|SV|$ is the number of support vectors of SVM fit on the entire data.\n",
    "### Your solution:"
   ]
  },
  {
   "cell_type": "markdown",
   "metadata": {},
   "source": [
    "The end."
   ]
  }
 ],
 "metadata": {
  "kernelspec": {
   "display_name": "Python 3",
   "language": "python",
   "name": "python3"
  },
  "language_info": {
   "codemirror_mode": {
    "name": "ipython",
    "version": 3
   },
   "file_extension": ".py",
   "mimetype": "text/x-python",
   "name": "python",
   "nbconvert_exporter": "python",
   "pygments_lexer": "ipython3",
   "version": "3.6.5"
  }
 },
 "nbformat": 4,
 "nbformat_minor": 2
}
