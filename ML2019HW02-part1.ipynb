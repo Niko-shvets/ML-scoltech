{
 "cells": [
  {
   "cell_type": "markdown",
   "metadata": {},
   "source": [
    "# Home Assignment No. 2: Part 1 (Theory)"
   ]
  },
  {
   "cell_type": "markdown",
   "metadata": {},
   "source": [
    "In this part of the homework you are to solve several theoretical problems related to machine learning algorithms.\n",
    "* For every separate problem you can get only 0 points or maximal points for this problem. There are **NO INTERMEDIATE scores**.\n",
    "* Your solution must me **COMPLETE**, i.e. contain all required formulas/proofs/detailed explanations.\n",
    "* You must write your solution for any problem just right after the words **BEGIN SOLUTION**. Attaching pictures of your handwriting is allowed, but **highly discouraged**.\n",
    "* The are problems with \\* mark - they are not obligatory. You can get **EXTRA POINTS** for solving them.\n",
    "## $\\LaTeX$ in Jupyter\n",
    "Jupyter has constantly improving $\\LaTeX$ support. Below are the basic methods to\n",
    "write **neat, tidy, and well typeset** equations in your notebooks:\n",
    "* to write an **inline** equation use \n",
    "```markdown\n",
    "$ you latex equation here $\n",
    "```\n",
    "* to write an equation, that is **displayed on a separate line** use \n",
    "```markdown\n",
    "$$ you latex equation here $$\n",
    "```\n",
    "* to write a **block of equations** use \n",
    "```markdown\n",
    "\\begin{align}\n",
    "    left-hand-side\n",
    "        &= right-hand-side on line 1\n",
    "        \\\\\n",
    "        &= right-hand-side on line 2\n",
    "        \\\\\n",
    "        &= right-hand-side on the last line\n",
    "\\end{align}\n",
    "```\n",
    "The **ampersand** (`&`) aligns the equations horizontally and the **double backslash**\n",
    "(`\\\\`) creates a new line."
   ]
  },
  {
   "cell_type": "markdown",
   "metadata": {},
   "source": [
    "Write your theoretical derivations within such blocks:\n",
    "```markdown\n",
    "**BEGIN Solution**\n",
    "\n",
    "<!-- >>> your derivation here <<< -->\n",
    "\n",
    "**END Solution**\n",
    "```"
   ]
  },
  {
   "cell_type": "markdown",
   "metadata": {},
   "source": [
    "<br>"
   ]
  },
  {
   "cell_type": "markdown",
   "metadata": {},
   "source": [
    "## Model and feature selection"
   ]
  },
  {
   "cell_type": "markdown",
   "metadata": {},
   "source": [
    "### Task 1 (1 pt.): Information criteria"
   ]
  },
  {
   "cell_type": "markdown",
   "metadata": {},
   "source": [
    "Assume that regression model is\n",
    "$$y = \\sum_{i=1}^k \\beta_i x_i + \\varepsilon,$$\n",
    "and $\\varepsilon$ is dictributed normally: $\\varepsilon \\sim \\mathcal{N}(0, \\sigma^2)$, $\\sigma^2$ is known.\n",
    "\n",
    "Prove that the model with highest Akaike information criterion is the model with smallest Mallow's $C_p$."
   ]
  },
  {
   "cell_type": "markdown",
   "metadata": {},
   "source": [
    "**BEGIN Solution**\n",
    "\n",
    "$$\n",
    "\\mathcal L_j(w)=m log \\frac{1}{\\sqrt{2\\pi \\sigma}}-\\frac{1}{2\\sigma^2}\\sum_{i=1}^{m}(y_i-w_j*x_{i,j}^T)^2\n",
    "$$\n",
    "\n",
    "where\n",
    "$$\n",
    "\\frac{1}{2\\sigma^2}\\sum_{i=1}^{m}(y_i-w_j*x_{i,j}^T)^2=-\\frac{-m}{2\\sigma^2}\\hat R_{t,r}(J)\n",
    "$$\n",
    "\n",
    "AIC has form \n",
    "$$\n",
    "\\mathcal L_j(w)-|J|=-\\frac{1}{2\\sigma^2}\\sum_{i=1}^{m}(y_i*w_j*x_{i,j}^T)^2-|J|+const \\rightarrow \\max\\limits_{w_j,J}\n",
    "$$\n",
    "\n",
    "So, AIC is equal to Mallow $C_p$ in case of linear regression model with a Gaussian noise, then\n",
    "\n",
    "$$\n",
    "-\\frac{2\\sigma^2}{m}(\\mathcal L_j-|J|)~\\hat R_{t,r}(J)+\\frac{2\\sigma^2}{m}|J|\\to \\min\\limits_{w_j,J}\n",
    "$$\n",
    "references: from lecture 7\n",
    "\n",
    "**END Solution**"
   ]
  },
  {
   "cell_type": "markdown",
   "metadata": {},
   "source": [
    "<br>"
   ]
  },
  {
   "cell_type": "markdown",
   "metadata": {},
   "source": [
    "## Boosting: gradient boosting, adaboost\n"
   ]
  },
  {
   "cell_type": "markdown",
   "metadata": {},
   "source": [
    "### Boosting and its theory\n",
    "\n",
    "Minimization of the loss function is an optimization task, and \"Gradient Boosting\"\n",
    "is one of the many methods to perform optimization. It shoould be noted that it\n",
    "uses *greedy* approach and therefore, like greedy algorithms in CS, may produce\n",
    "results that are not *globally* optimal.\n",
    "\n",
    "$$\n",
    "\\begin{aligned}\n",
    "    & b_n(x) := \\text{the best base model from the family of the algorithms $\\mathcal{A}$} \\\\\n",
    "    & \\gamma_n(x) := \\text{scale or weight of the new model} \\\\\n",
    "    & a_N(x) = \\sum_{n=0}^N \\gamma_n b_n(x) := \\text{the final composite model}\n",
    "\\end{aligned}\n",
    "$$"
   ]
  },
  {
   "cell_type": "markdown",
   "metadata": {},
   "source": [
    "### Gradient Boosting Algorithm\n",
    "\n",
    "Consider a loss loss function $L(y, z)$ for target $y$ and prediction $z$, and let\n",
    "$(x_i, y_i)_{i=1}^l$ be our train dataset for a regression task. \n",
    "\n",
    "\n",
    "1. Initialize $a_0(x) = \\hat{z}$ with the *flat constant prediction*\n",
    "$\\hat{z} = \\arg\\min\\limits_{z \\in \\mathbb{R}} \\sum_{i=1}^l L(y_i, z)$;\n",
    "2. For $n$ from `1` to `n_boost_steps` do:\n",
    "    * Solve the current subporblem $G_n(b_n, \\gamma_n) \\to \\min\\limits_{b_{n}, \\gamma_n}$\n",
    "    where \n",
    "    $$ G_n(b, \\gamma) = \\sum_{i=1}^l L\\bigl(y_i, a_{n-1}(x_i) + \\gamma b(x_i)\\bigr) $$\n",
    "    with the following method:\n",
    "    \\begin{align}\n",
    "      & s_i = - \\frac{\\partial}{\\partial z} L(y_i, z) \\Big\\vert_{z=a_{n-1}(x_i)}\n",
    "          \\\\\n",
    "      & b_n(x) = \\arg\\min\\limits_{b\\in\\mathcal{A}}\\sum_{i=1}^l \\bigl(b(x_i) - s_i\\bigr)^2\n",
    "          \\\\\n",
    "      & \\gamma_n = \\arg\\min_\\gamma G_n(b_n, \\gamma)\n",
    "          \\\\\n",
    "      & a_n(x) = a_{n-1}(x) + \\gamma_n b_n(x)\n",
    "    \\end{align}\n",
    "3. return $a_N(x) = a_0(x) + \\sum_{n=1}^N \\gamma_n b_n(x)$"
   ]
  },
  {
   "cell_type": "markdown",
   "metadata": {},
   "source": [
    "<br>"
   ]
  },
  {
   "cell_type": "markdown",
   "metadata": {},
   "source": [
    "### Task 2 (1 pt.)\n",
    "\n",
    "At the $n$-th step of Garient Boosting ($n \\geq 1$) we compute the \"residuals\"\n",
    "$(s_i)_{i=1}^l$ and learn $x\\mapsto b_n(x)$ with a regression algorithm $\\mathcal{A}$\n",
    "applied to the dataset $(x_i, s_i)_{i=1}^l$. For the next two tasks **assume\n",
    "that we have already perfomed these substeps**.\n",
    "\n",
    "Derive the **optimal value** of $\\gamma_n$ for *MSE* loss function $L(y, z) = \\tfrac12 (y - z)^2$."
   ]
  },
  {
   "cell_type": "markdown",
   "metadata": {},
   "source": [
    "**BEGIN Solution**\n",
    "$$\n",
    "\\frac{\\partial G_n(b_n,\\gamma)}{\\partial \\gamma}=\\frac{\\partial \\sum_{i=1}^{l} (y_i-b_n(x_i)\\gamma _n-a_{n-1}(x_i))^2}{\\partial \\gamma}\n",
    "$$\n",
    "\n",
    "$$\n",
    "\\frac{\\partial}{\\partial \\gamma}\\sum_{i=1}^{l}(s_i-b_n(x_i)\\gamma _n)^2=\\sum_{i=1}^{l}b_n(x_i)(b_n(x_i)\\gamma _n -s_i)=0\n",
    "$$\n",
    "\n",
    "from this point we can say, that\n",
    "\n",
    "$$\n",
    "\\gamma_nb_n^Tb_n-b_n^Ts=0\n",
    "$$\n",
    "\n",
    "so,\n",
    "\n",
    "$$\n",
    "\\gamma_n=\\frac{b_n^Ts}{||b_n||_2^2}\n",
    "$$\n",
    "\n",
    "then\n",
    "\n",
    "$$\n",
    "\\gamma_n=\\frac{\\sum_{i=1}^{l}b_n(x_i)s_i}{\\sum_{i=1}^{l} b_n^2(x_i)}\n",
    "$$\n",
    "**END Solution**"
   ]
  },
  {
   "cell_type": "markdown",
   "metadata": {},
   "source": [
    "<br>"
   ]
  },
  {
   "cell_type": "markdown",
   "metadata": {},
   "source": [
    "### Task 3 (1+1+1 pt.)\n",
    "\n",
    "Let $S = (x_i, y_i)_{i=1}^l$ be a sample for a classification task $y_i \\in \\{-1, +1\\}$.\n",
    "\n",
    "The **AdaBoost** algorithm can be regarded as a gradient boosting algorithm\n",
    "with the exponential loss $L(y,z) = e^{-y z}$. Consider the state of **AdaBoost**\n",
    "at the $T$-step\n",
    "$$ G_{T}(b, \\gamma)\n",
    "    = \\sum_{i=1}^l L\\bigl(y_i, a_{T-1}(x_i) + \\gamma b(x_i)\\bigr)\n",
    "    = \\sum_{i=1}^l \\underbrace{\\exp(- y_i a_{T-1}(x_i))}_{w^{T-1}_i}\n",
    "        \\exp(- y_i \\gamma b(x_i))\n",
    "    \\,.\n",
    "$$"
   ]
  },
  {
   "cell_type": "markdown",
   "metadata": {},
   "source": [
    "#### Task 3.1 (1 pt.)\n",
    "\n",
    "Derive the next weights $w^T_i$ used in $G_T$ at the stage $T$ as a function\n",
    "of the learnt classifier $b_T$ and the current weights $w^{T-1}_i$;"
   ]
  },
  {
   "cell_type": "markdown",
   "metadata": {},
   "source": [
    "#### BEGIN Solution\n",
    "\n",
    "We need to derive it.\n",
    "We know, that if data classified then $y_i(b(x_i)=1$, else $y_i(b(x_i)=-1$ from this point we can write, that\n",
    "\n",
    "$$\n",
    "G_T(b,\\gamma)=\\sum_{y=b(x_i)}w_i^{T-1}\\exp^{-\\gamma}+\\sum_{y\\neq b(x_i)}w_i^{T-1}\\exp^{\\gamma}=\\sum_{i=1}^{l}w_i^{T-1}\\exp^{-\\gamma}+\\sum_{i=1}^{l}w_i^{T-1}(\\exp^{\\gamma}-\\exp^{-\\gamma})\n",
    "$$\n",
    "\n",
    "now lets find derivative\n",
    "\n",
    "$$\n",
    "\\frac{\\partial G}{\\partial \\gamma}=\\frac{\\partial(\\sum_{y_i=b(x_i)}w_i*\\exp^{-\\gamma}+\\sum_{y_i\\neq b(x_i)}w_i*\\exp^{\\gamma})}{\\partial \\gamma}\n",
    "$$\n",
    "\n",
    "from this we can find $\\gamma$\n",
    "\n",
    " $$\n",
    " \\gamma=\\frac{1}{2}\\ln \\frac{\\sum_{y_i=b(x_i)}w_i}{\\sum_{y_i\\neq b(x_i)}w_i}\n",
    " $$\n",
    "\n",
    "so \n",
    "$$\n",
    "w^T=w^{T-1} exp(-y \\gamma_T b_T(x))\n",
    "$$\n",
    "**END Solution**"
   ]
  },
  {
   "cell_type": "markdown",
   "metadata": {},
   "source": [
    "<br/> <!--Intentionally left blank-->"
   ]
  },
  {
   "cell_type": "markdown",
   "metadata": {},
   "source": [
    "#### Task 3.2 (1 pt.)\n",
    "\n",
    "Compute the ratio of weights $(w^T_i)_{i=1}^l$ between the normal and outlier\n",
    "samples in $S$. Propose a **formal definition of being an outlier**, and reflect\n",
    "on the value of *margin* for both.\n",
    "\n",
    "<span style=\"color:green\">**HINT**</span>: *margin* value."
   ]
  },
  {
   "cell_type": "markdown",
   "metadata": {},
   "source": [
    "#### BEGIN Solution\n",
    "\n",
    "$$\\frac{w_n}{w_o} \\approx \\frac{exp(-y a(x_n))}{exp(-y a(x_o))}$$\n",
    "\n",
    "Ratio can be <<0 if we have correct prediction, and margin is big.\n",
    "Ratio can be $\\approx$ 1 if it close to boundary\n",
    "The ratio <<1, then outlier is some object with big positive margin\n",
    "\n",
    "\n",
    "\n",
    "**END Solution**"
   ]
  },
  {
   "cell_type": "markdown",
   "metadata": {},
   "source": [
    "<br/> <!--Intentionally left blank-->"
   ]
  },
  {
   "cell_type": "markdown",
   "metadata": {},
   "source": [
    "#### Task 3.3 (1 pt.)\n",
    "\n",
    "Conclude about **sensitivity** of Adaboost to outliers."
   ]
  },
  {
   "cell_type": "markdown",
   "metadata": {},
   "source": [
    "#### BEGIN Solution\n",
    "\n",
    "AdaBoost can be sensitive to outliers because it is fitting a classification model (an additive model) to an exponential loss function, and the exponential loss function is sensitive to outliers.  \n",
    "\n",
    "**END Solution**"
   ]
  },
  {
   "cell_type": "markdown",
   "metadata": {},
   "source": [
    "<br/> <!--Intentionally left blank-->"
   ]
  },
  {
   "cell_type": "markdown",
   "metadata": {},
   "source": [
    "### Task 4 (2+1+2 pt.): Alternative objective functions."
   ]
  },
  {
   "cell_type": "markdown",
   "metadata": {},
   "source": [
    "This problem studies boosting-type algorithms defined with objective\n",
    "functions different from that of AdaBoost.We assume that the training\n",
    "data are given as m labeled examples $(x_{1},y_{1}),...,(x_{m},y_{m}) \\in X \\times \\{-1,+1\\}$.We further assume that $\\Phi$ is a strictly increasing convex and differentiable function over $\\mathbb{R}$ such that:$\\ \\forall x \\geqslant 0,\\Phi(x)\\geqslant 1 \\ and \\ \\forall x < 0,\\Phi(x) > 0$."
   ]
  },
  {
   "cell_type": "markdown",
   "metadata": {},
   "source": [
    "#### Task 4.1 (2 pt.)\n",
    "Consider the loss function $L(a) =\\sum_{i=1}^{m}\\Phi \\left( -y_{i}g(x_i) \\right)$ where $g$ is a linear combination of base classifiers, i.e., $g= \\sum_{t=1}^{T} a_t h_t$(as in\n",
    "AdaBoost). Derive a new boosting algorithm using the objective function $L$. In particular, characterize the best base classifier $h_u$ to select at each round of boosting if we use coordinate descent."
   ]
  },
  {
   "cell_type": "markdown",
   "metadata": {},
   "source": [
    "**BEGIN Solution**\n",
    "\n",
    "\n",
    "**END Solution**"
   ]
  },
  {
   "cell_type": "markdown",
   "metadata": {},
   "source": [
    "<br/> <!--Intentionally left blank-->"
   ]
  },
  {
   "cell_type": "markdown",
   "metadata": {},
   "source": [
    "#### Task 4.2 (1 pt.)\n",
    "Consider the following functions:  \n",
    "\n",
    "1. zero-one loss $\\Phi_1(−u) = 1_{u\\leqslant0}$;  \n",
    "2. least squared loss $\\Phi_2(−u) = (1 − u)^2$;  \n",
    "3. SVM loss $\\Phi_3(−u) = \\max\\{0, 1 − u\\}$;  \n",
    "4. logistic loss $\\Phi_4(−u) = \\log(1 + e^{−u})$.  \n",
    "\n",
    "Which functions satisfy the assumptions on $\\Phi$ stated earlier in this\n",
    "problem?\n",
    "\n",
    "Compute the gradient for them."
   ]
  },
  {
   "cell_type": "markdown",
   "metadata": {},
   "source": [
    "**BEGIN Solution**\n",
    "zero-one loss:\n",
    "\n",
    " $\\Phi_1(−u) = 1_{u\\leqslant0}$ -not differentble at $u=0$ \n",
    "\n",
    "Least squared loss:\n",
    "\n",
    "$$\n",
    "Ф_2(-u)=(1-u)^2\n",
    "$$\n",
    "\n",
    "\n",
    "$$\n",
    "\\frac{\\partial Ф_2}{\\partial u}=-2(1-u)\n",
    "$$\n",
    "\n",
    "SVM Loss:\n",
    "\n",
    "$\\Phi_3(−u) = \\max\\{0, 1 − u\\}$ not differentble in $u=1$\n",
    "\n",
    "$\\nabla \\Phi_3=0$ if $u>1$ and $\\nabla \\Phi_3=-\\frac{u}{||u||}$ if $u<1$ \n",
    "\n",
    "Logistic Loss:\n",
    "\n",
    "$$\n",
    "\\Phi_4(−u) = \\log(1 + e^{−u})\n",
    "$$\n",
    "\n",
    "$$\n",
    "\\frac{\\partial Ф_4}{\\partial u}=\\frac{e^{-u}}{1+e^{-u}}\n",
    "$$\n",
    "\n",
    "We know that, $log_2(1+e^0)=1$,then\n",
    "$$\n",
    "\\frac{\\partial \\Phi_4(-u)}{\\partial (-u)}=\\frac{e^{-u}}{1+e^{-u}ln(2)}>0\n",
    "$$\n",
    "\n",
    "Then Logistic Los satisfy assumption above\n",
    "\n",
    "\n",
    "**END Solution**"
   ]
  },
  {
   "cell_type": "markdown",
   "metadata": {},
   "source": [
    "<br/> <!--Intentionally left blank-->"
   ]
  },
  {
   "cell_type": "markdown",
   "metadata": {},
   "source": [
    "#### Task 4.3* (2 pt.)\n",
    "For each loss function satisfying the assumptions in Task 5 formualtion, derive the\n",
    "corresponding boosting algorithm. How do the algorithm(s) differ\n",
    "from AdaBoost?"
   ]
  },
  {
   "cell_type": "markdown",
   "metadata": {},
   "source": [
    "**BEGIN Solution**\n",
    "$$\n",
    "\\sum_{i=1}^{m}\\frac{y_ih(x_i)}{1+e^{y_iF(x_i)}}\n",
    "$$\n",
    "we need to find $h$ most correlated with label $y_i$ with respect to set of weights:\n",
    "$$\n",
    "\\frac{1}{1+e^{y_iF(x_i)}}\n",
    "$$\n",
    "\n",
    "usual weights for AdaBoost: $e^{-y_iF(x_i)}$\n",
    "\n",
    "he functional gradient descent approach suggests how to choose a base function\n",
    "h on each round. However, the approach does not specify what multiple of $h$ to add to $F$, that is, how to select α in the method’s iterative update.\n",
    "\n",
    "$F\\leftarrow F+\\alpha h $\n",
    "\n",
    "We can compute and upper bound the change $\\nabla L$ in the logistic loss when the old $F$ is replaced by $F + αh$\n",
    "\n",
    "$$\n",
    "\\nabla L=L(F+\\alpha h)-L(F)=\\sum_{i=1}^{m}Ln(1+e^{-y_i(F(x_i)+\\alpha h(x_i)}-\\sum_{i=1}^m Ln(1+e^{-y_iF(x_i)})=\\sum_{i=1}^m\\frac{1+e^{-y_i(F(x_i)+\\alpha h(x_i)}}{Ln(1+e^{-y_iF(x_i)}}\n",
    "$$\n",
    "\n",
    "it will be equal to:\n",
    "\n",
    "$$\n",
    "\\sum_{i=1}^m\\frac{e^{-y_i\\alpha h(x_i)}-1}{1+e^{y_iF(x_i)}}\n",
    "$$\n",
    "\n",
    "\n",
    "if we took $1+e^{y_iF(x_i)}$ for $w$, then we can say, that it is similat to Adaboost optimization problem\n",
    "\n",
    "\n",
    "referencies: Adaptive computation and Machine learning. Thomas Dietterich, 199\n",
    "\n",
    "**END Solution**"
   ]
  },
  {
   "cell_type": "markdown",
   "metadata": {},
   "source": [
    "<br/> <!--Intentionally left blank-->"
   ]
  },
  {
   "cell_type": "markdown",
   "metadata": {},
   "source": [
    "## NNs"
   ]
  },
  {
   "cell_type": "markdown",
   "metadata": {},
   "source": [
    "### Task 5. (1 pt.)\n",
    "Consider a two-layer network function of the form\n",
    "    \\begin{equation}\n",
    "    y_k(x, \\mathbf{w}) = \\sigma \\left ( \\sum_{j=1}^M w_{kj}^{(2)} \\sigma \\left(\\sum_{i=1}^D w_{ji}^{(1)}x_i + w_{j0}^{(1)}\\right)\n",
    "                               + w_{k0}^{(2)}\\right)\n",
    "    \\end{equation}\n",
    "in which the nonlinear activation functions are logistic sigmoid functions\n",
    "    \\begin{equation}\n",
    "    \\sigma(a) = (1 + \\exp(−a))^{-1}.\n",
    "    \\end{equation}\n",
    "Show that there exists an equivalent network, which computes exactly the same function but with hidden unit activation function given by hyperbolic tangent ${\\rm tanh}(a)$\n",
    "    \\begin{equation}\n",
    "    {\\rm tanh}(a) = \\frac{e^a - e^{-a}}{e^a + e^{-a}}.\n",
    "    \\end{equation}\n"
   ]
  },
  {
   "cell_type": "markdown",
   "metadata": {},
   "source": [
    "**BEGIN Solution**\n",
    "lets write:\n",
    "\n",
    "$$\n",
    "tanh(a)+1=\\frac{e^{a}-e^{-a}}{e^{a}+e^{-a}}+\\frac{e^{a}+e^{-a}}{e^{a}+e^{-a}}=\\frac{2e^{a}}{e^{a}+e^{-a}}=\\frac{2}{e^{a}+e^{-2a}}\n",
    "$$\n",
    "\n",
    "from this we can write, that it is equal to $2\\sigma(2a)$\n",
    "then \n",
    "$$\n",
    "\\sigma=\\frac{tanh(\\frac{a}{2})}{2}+\\frac{1}{2}\n",
    "$$\n",
    "\n",
    "So, we can see from here that we can express $\\sigma(a)$ via $tanh(a)$ \n",
    "\n",
    "**END Solution**"
   ]
  },
  {
   "cell_type": "markdown",
   "metadata": {},
   "source": [
    "<br/> <!--Intentionally left blank-->"
   ]
  },
  {
   "cell_type": "markdown",
   "metadata": {},
   "source": [
    "### Task 6*. Data augmentation (2 pt.)\n",
    "One way to encourage invariance of a model w.r.t a set of transformations is to expand the training set using transformed versions of the original input patterns.\n",
    "Consider the framework for training with transformed data in the special case when the transformation is simply addition of random noise $x \\rightarrow x + \\xi$ where $\\xi$ has a Gaussian distribution with zero mean and unit variance. The error function for untransformed inputs can be written (in the infinite data set limit) in the form\n",
    "    \\begin{equation}\n",
    "    E = \\frac12 \\int \\int (y(\\mathbf{x}) - t)^2 p(t|\\mathbf{x}) p(\\mathbf{x}){\\rm d}\\mathbf{x} {\\rm d}t.\n",
    "    \\end{equation}\n",
    "If we now consider an infinite number of copies of each data point perturbed by the transformation, then the error function can be written as\n",
    "    \\begin{equation}\n",
    "    \\widetilde{E} = \\frac12 \\int\\int(y(x + \\xi) - t)^2p(t | \\mathbf{x})p(\\mathbf{x}) p(\\xi){\\rm d}\\mathbf{x}{\\rm d}t {\\rm d}\\xi\n",
    "    \\end{equation}\n",
    "Using Taylor series expansion of $y(\\mathbf{x} + \\xi)$ show that\n",
    "    \\begin{equation}\n",
    "    \\widetilde{E} \\simeq E + \\lambda \\Omega\n",
    "    \\end{equation}\n",
    "where $\\Omega$ is a regularizer which takes the form of Tikhonov regularizer\n",
    "    \\begin{equation}\n",
    "    \\Omega = \\frac12 \\int \\|\\nabla y(\\mathbf{x})\\|^2 p(\\mathbf{x}){\\rm d} \\mathbf{x}.\n",
    "    \\end{equation}\n"
   ]
  },
  {
   "cell_type": "markdown",
   "metadata": {},
   "source": [
    "**BEGIN Solution**\n",
    "lets expanded it\n",
    "\\begin{equation}\n",
    "    \\widetilde{E} = \\frac12 \\int\\int(y(x + \\xi) - t)^2p(t | \\mathbf{x})p(\\mathbf{x}) p(\\xi){\\rm d}\\mathbf{x}{\\rm d}t {\\rm d}d\\xi\\simeq\\frac12\\int\\int(y(x)+\\xi\\nabla y(x)-t)^p(t | \\mathbf{x})p(\\mathbf{x}) p(\\xi){\\rm d}\\mathbf{x}{\\rm d}t {\\rm d}d\\xi=\\frac12 \\int\\int(y(x)-t)^2+x\\xi\\nabla y(x)(y(x)-t)+\\xi^2||\\nabla y(x)||^2)p(t | \\mathbf{x})p(\\mathbf{x}) p(\\xi){\\rm d}\\mathbf{x}{\\rm d}t {\\rm d}d\\xi=\\frac12\\int\\int(y(x)-t)^2p(t | \\mathbf{x})p(\\mathbf{x}) p(\\xi){\\rm d}\\mathbf{x}{\\rm d}t {\\rm d}d\\xi=\\frac12\\int\\int(y(x)-t)^2p(t | \\mathbf{x})p(\\mathbf{x}) p(\\xi){\\rm d}\\mathbf{x}{\\rm d}t {\\rm d}d\\xi\n",
    " \\end{equation}\n",
    " \n",
    " it will be equal to $E$\n",
    " \n",
    " Now we need to find $\\lambda \\Omega$\n",
    " \\begin{equation}\n",
    " \\frac\\int\\int \\xi^2||\\nabla y(x)||^2p(t | \\mathbf{x})p(\\mathbf{x}) p(\\xi){\\rm d}\\mathbf{x}{\\rm d}t {\\rm d}d\\xi=\\frac12\\int\\xi^2 p(\\xi)d\\xi \\int\\int||\\nabla y(x)||^2p(t | \\mathbf{x})p(\\mathbf{x}) p(\\xi){\\rm d}\\mathbf{x}{\\rm d}t {\\rm d}d\\xi=\\frac12 var(\\xi)\\Omega=\\lambda\\Omega\n",
    " \\end{equation}\n",
    "**END Solution**\n",
    "\n",
    "references: Bishop: Pattern recognition and machine learning p.266"
   ]
  },
  {
   "cell_type": "markdown",
   "metadata": {},
   "source": [
    "<br/> <!--Intentionally left blank-->"
   ]
  }
 ],
 "metadata": {
  "kernelspec": {
   "display_name": "Python 3",
   "language": "python",
   "name": "python3"
  },
  "language_info": {
   "codemirror_mode": {
    "name": "ipython",
    "version": 3
   },
   "file_extension": ".py",
   "mimetype": "text/x-python",
   "name": "python",
   "nbconvert_exporter": "python",
   "pygments_lexer": "ipython3",
   "version": "3.6.5"
  }
 },
 "nbformat": 4,
 "nbformat_minor": 2
}
